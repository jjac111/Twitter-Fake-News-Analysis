{
 "cells": [
  {
   "cell_type": "code",
   "execution_count": 1,
   "metadata": {},
   "outputs": [],
   "source": [
    "import tweepy\n",
    "import pandas as pd\n",
    "import numpy as np\n",
    "import os\n",
    "from datetime import datetime\n",
    "import datetime as dt\n",
    "%matplotlib inline\n",
    "\n",
    "pd.set_option('display.max_columns', None)\n",
    "pd.set_option('display.max_colwidth', 1000)\n",
    "pd.set_option('float_format', '{:f}'.format)"
   ]
  },
  {
   "cell_type": "code",
   "execution_count": 2,
   "metadata": {},
   "outputs": [],
   "source": [
    "app_key = ''\n",
    "app_key_secret = ''"
   ]
  },
  {
   "cell_type": "markdown",
   "metadata": {},
   "source": [
    "# Tweepy"
   ]
  },
  {
   "cell_type": "code",
   "execution_count": 3,
   "metadata": {},
   "outputs": [],
   "source": [
    "auth = tweepy.AppAuthHandler(app_key, app_key_secret)\n",
    "api = tweepy.API(auth)\n"
   ]
  },
  {
   "cell_type": "code",
   "execution_count": 4,
   "metadata": {},
   "outputs": [],
   "source": [
    "# Twitter-syntaxed queries\n",
    "hashtags = ['#filmyourhospital', '#covid19', '#plandemic']\n",
    "hashtag = hashtags[1]\n",
    "q_originals = ' -filter:replies -filter:retweets -filter:quotes'\n",
    "q_english = ' lang:en'\n",
    "q_coordinates = ' has:coordinates'\n",
    "q_verified = ' filter:verified'\n",
    "\n",
    "query = hashtag"
   ]
  },
  {
   "cell_type": "code",
   "execution_count": 5,
   "metadata": {},
   "outputs": [],
   "source": [
    "def search_tweets(query, i='', date=None, save=False, users=False):\n",
    "    '''\n",
    "    Searches for tweets and returns them as a DataFrame.\n",
    "    \n",
    "    Arguments:    \n",
    "        - query: String with a twitter-syntaxed query for a status search.\n",
    "        - i: Any String-able type of data to add to the filenames.\n",
    "        - date: A datetime object representing today and now. If None: use datetime.now()\n",
    "        - save: default=False. If True: saves the searched DataFrame into .csv files under '/data'.\n",
    "        - users: default=False. If True: creates a second DataFrame for the users in each tweet, saves it if save=True, and returns two DataFrames instead.\n",
    "        \n",
    "    Returns:\n",
    "        int: The lowest id among the statuses retrieved\n",
    "        \n",
    "    '''\n",
    "    if not date:\n",
    "        date = datetime.now()\n",
    "    path = 'data'\n",
    "    if not os.path.exists(path):\n",
    "        os.makedirs(path)\n",
    "\n",
    "    _tweets = []\n",
    "    _users = []\n",
    "    for tweet in tweepy.Cursor(api.search, q=query).items(100):\n",
    "        _users.append(tweet.user._json)\n",
    "        _tweets.append(tweet._json)\n",
    "    df_tweets = pd.DataFrame.from_dict(_tweets)\n",
    "    df_users = pd.DataFrame.from_dict(_users)\n",
    "\n",
    "    if save:\n",
    "        df_tweets.to_csv(path+'/tweets_'+str(date).replace(' ', '_').replace(':', '-').split('.')[0]+'_'+str(i)+'.csv')\n",
    "        if users:\n",
    "            df_users.to_csv(path+'/users_'+str(date).replace(' ', '_').replace(':', '-').split('.')[0]+'_'+str(i)+'.csv')\n",
    "    \n",
    "    return min(df_tweets['id'])"
   ]
  },
  {
   "cell_type": "code",
   "execution_count": 6,
   "metadata": {},
   "outputs": [],
   "source": [
    "_tweets = []\n",
    "for tweet in tweepy.Cursor(api.search, q=query).items(100):\n",
    "    _tweets.append(tweet._json)\n",
    "df_tweets = pd.DataFrame.from_dict(_tweets)\n"
   ]
  },
  {
   "cell_type": "code",
   "execution_count": 7,
   "metadata": {},
   "outputs": [],
   "source": [
    "def exhaust_search(api, query, limit=None):\n",
    "    '''\n",
    "    Searches and saves all tweets into .csv files. The search is limited by the current remaining application requests from api.\n",
    "    \n",
    "    Parameters:\n",
    "        - api: Tweepy.API object with an application authorization\n",
    "        - query: String with a twitter-syntaxed query for a status search.\n",
    "        - limit: Maximum number of API requests to make to Twitter.\n",
    "        \n",
    "    Returns:\n",
    "        None\n",
    "    '''\n",
    "    \n",
    "    status = api.rate_limit_status()\n",
    "    if not limit:\n",
    "        limit =  status['resources']['search']['/search/tweets']['limit']\n",
    "    \n",
    "    date = datetime.now()\n",
    "    remaining_requests = status['resources']['search']['/search/tweets']['remaining']\n",
    "    until = status['resources']['search']['/search/tweets']['reset']\n",
    "    until = datetime.fromtimestamp(until)\n",
    "    now = datetime.now()\n",
    "    time_to_reset = until - now\n",
    "\n",
    "\n",
    "\n",
    "    if remaining_requests <= 0:\n",
    "        raise Exception(f'You have reached your API request limit. You will get another {limit} requests in:\\n{time_to_reset.seconds} Seconds ({until})')\n",
    "\n",
    "    if remaining_requests < limit:\n",
    "        limit = remaining_requests\n",
    "        print(f'You have {remaining_requests} requests until {until}')\n",
    "\n",
    "\n",
    "    previous_max_id = ''\n",
    "    for i in range(limit):\n",
    "        id = search_tweets(query+previous_max_id, i+1, date, save=True)\n",
    "        previous_max_id = ' max_id:' + str(id)\n",
    "\n",
    "        print(str(round(i*100/limit, 2)) + '%', end='\\t')\n",
    "       "
   ]
  },
  {
   "cell_type": "code",
   "execution_count": 8,
   "metadata": {
    "scrolled": false
   },
   "outputs": [
    {
     "name": "stdout",
     "output_type": "stream",
     "text": [
      "You have 443 requests until 2020-05-09 20:59:08\n",
      "0.0%\t0.23%\t0.45%\t0.68%\t0.9%\t1.13%\t1.35%\t1.58%\t1.81%\t2.03%\t2.26%\t2.48%\t2.71%\t2.93%\t3.16%\t3.39%\t3.61%\t3.84%\t4.06%\t4.29%\t4.51%\t4.74%\t4.97%\t5.19%\t5.42%\t5.64%\t5.87%\t6.09%\t6.32%\t6.55%\t6.77%\t7.0%\t7.22%\t7.45%\t7.67%\t7.9%\t8.13%\t8.35%\t8.58%\t8.8%\t9.03%\t9.26%\t9.48%\t9.71%\t9.93%\t10.16%\t10.38%\t10.61%\t10.84%\t11.06%\t11.29%\t11.51%\t11.74%\t11.96%\t12.19%\t12.42%\t12.64%\t12.87%\t13.09%\t13.32%\t13.54%\t13.77%\t14.0%\tTwitter error response: status code = 429\n"
     ]
    }
   ],
   "source": [
    "try:\n",
    "    exhaust_search(api, query)\n",
    "except Exception as e:\n",
    "    print(e)"
   ]
  }
 ],
 "metadata": {
  "kernelspec": {
   "display_name": "Python 3",
   "language": "python",
   "name": "python3"
  },
  "language_info": {
   "codemirror_mode": {
    "name": "ipython",
    "version": 3
   },
   "file_extension": ".py",
   "mimetype": "text/x-python",
   "name": "python",
   "nbconvert_exporter": "python",
   "pygments_lexer": "ipython3",
   "version": "3.7.3"
  }
 },
 "nbformat": 4,
 "nbformat_minor": 2
}
